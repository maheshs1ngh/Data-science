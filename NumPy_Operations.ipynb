{
  "nbformat": 4,
  "nbformat_minor": 0,
  "metadata": {
    "colab": {
      "provenance": [],
      "include_colab_link": true
    },
    "kernelspec": {
      "name": "python3",
      "display_name": "Python 3"
    }
  },
  "cells": [
    {
      "cell_type": "markdown",
      "metadata": {
        "id": "view-in-github",
        "colab_type": "text"
      },
      "source": [
        "<a href=\"https://colab.research.google.com/github/maheshs1ngh/Data-science-projects/blob/main/NumPy_Operations.ipynb\" target=\"_parent\"><img src=\"https://colab.research.google.com/assets/colab-badge.svg\" alt=\"Open In Colab\"/></a>"
      ]
    },
    {
      "cell_type": "markdown",
      "metadata": {
        "id": "MKXTc2Tas23T"
      },
      "source": [
        "# <u> Use only those concepts which have been taught till now </u>"
      ]
    },
    {
      "cell_type": "code",
      "metadata": {
        "id": "0V3Xtuh9siNn"
      },
      "source": [
        "import numpy as np"
      ],
      "execution_count": null,
      "outputs": []
    },
    {
      "cell_type": "markdown",
      "metadata": {
        "id": "Ase3qjp9cJUC"
      },
      "source": [
        "# <u>**Problem 1**</u>\n",
        "\n",
        "### What is the average value of the first 5 rows of the third and fourth columns?\n",
        "\n"
      ]
    },
    {
      "cell_type": "code",
      "metadata": {
        "id": "xj0SaK7smcPu",
        "outputId": "4d8f7671-34bc-4652-dcf2-e3e7f534ee27",
        "colab": {
          "base_uri": "https://localhost:8080/"
        }
      },
      "source": [
        "import numpy as np\n",
        "np.random.seed(21) # This guarantees the code will generate the same set of random numbers whenever executed\n",
        "\n",
        "random_integers = np.random.randint(1,high=500000, size=(20, 5))\n",
        "random_integers"
      ],
      "execution_count": null,
      "outputs": [
        {
          "output_type": "execute_result",
          "data": {
            "text/plain": [
              "array([[ 80842, 333008, 202553, 140037,  81969],\n",
              "       [ 63857,  42105, 261540, 481981, 176739],\n",
              "       [489984, 326386, 110795, 394863,  25024],\n",
              "       [ 38317,  49982, 408830, 485118,  16119],\n",
              "       [407675, 231729, 265455, 109413, 103399],\n",
              "       [174677, 343356, 301717, 224120, 401101],\n",
              "       [140473, 254634, 112262,  25063, 108262],\n",
              "       [375059, 406983, 208947, 115641, 296685],\n",
              "       [444899, 129585, 171318, 313094, 425041],\n",
              "       [188411, 335140, 141681,  59641, 211420],\n",
              "       [287650,   8973, 477425, 382803, 465168],\n",
              "       [  3975,  32213, 160603, 275485, 388234],\n",
              "       [246225,  56174, 244097,   9350, 496966],\n",
              "       [225516, 273338,  73335, 283013, 212813],\n",
              "       [ 38175, 282399, 318413, 337639, 379802],\n",
              "       [198049, 101115, 419547, 260219, 325793],\n",
              "       [148593, 425024, 348570, 117968, 107007],\n",
              "       [ 52547, 180346, 178760, 305186, 262153],\n",
              "       [ 11835, 449971, 494184, 472031, 353049],\n",
              "       [476442,  35455, 191553, 384154,  29917]])"
            ]
          },
          "metadata": {},
          "execution_count": 6
        }
      ]
    },
    {
      "cell_type": "code",
      "metadata": {
        "id": "N1hhYCZw3V1c",
        "colab": {
          "base_uri": "https://localhost:8080/"
        },
        "outputId": "3e3a3b12-7279-4671-f87a-bea4e75b30c8"
      },
      "source": [
        "# Your code here\n",
        "#average value of the first 5 rows of the third and fourth columns?\n",
        "#print(random_integers)\n",
        "array=random_integers[0:5, 2:4]\n",
        "print(array)\n",
        "np.average(array)"
      ],
      "execution_count": null,
      "outputs": [
        {
          "output_type": "stream",
          "name": "stdout",
          "text": [
            "[[202553 140037]\n",
            " [261540 481981]\n",
            " [110795 394863]\n",
            " [408830 485118]\n",
            " [265455 109413]]\n"
          ]
        },
        {
          "output_type": "execute_result",
          "data": {
            "text/plain": [
              "286058.5"
            ]
          },
          "metadata": {},
          "execution_count": 18
        }
      ]
    },
    {
      "cell_type": "markdown",
      "metadata": {
        "id": "POAj5sBgd3gd"
      },
      "source": [
        "#<u>**Problem 2**</u>\n",
        "\n",
        "### In this problem, we are going to calculate distances between some pairs of points :\n",
        "\n",
        "### <u> Measures of distances </u>\n",
        "* ### Euclidean Distance : The distance between two points $(x_{1},y_{1})$ , $(x_{2},y_{2})$ is defined as :\n",
        "${\\displaystyle d(x,y)={\\sqrt {(x_{1}-x_{2})^{2}+(y_{1}-y_{2})^{2}}}.}$\n",
        "\n",
        "* ### Manhattan Distance : The distance between two points $(x_{1},y_{1})$ , $(x_{2},y_{2})$ is defined as :\n",
        "${\\displaystyle d(x,y)=|x_{1}-x_{2}|+|y_{1}-y_{2}|}$\n"
      ]
    },
    {
      "cell_type": "markdown",
      "metadata": {
        "id": "lw7TLsfd-eXc"
      },
      "source": [
        "### Create a 2-D array of 10 points where the x-coordinates and the y-coordinates can take random integral values between 5 and 20.\n",
        "\n",
        "\n",
        "### Next, create two 1-D arrays(one for  Euclidean distance and the other for  Manhattan distance) for these points\n"
      ]
    },
    {
      "cell_type": "code",
      "metadata": {
        "id": "TOEq4PEP5y8X",
        "colab": {
          "base_uri": "https://localhost:8080/"
        },
        "outputId": "ac3ae4e5-2e0f-403e-ed04-3e9bf9905a3a"
      },
      "source": [
        "# Create the 10 points\n",
        "import numpy as np\n",
        "import random\n",
        "\n",
        "def euclidean_distance(x, y):\n",
        "  return np.sqrt(np.sum((x - y)**2))\n",
        "\n",
        "def manhattan_distance(x, y):\n",
        "  return np.sum(np.abs(x - y))\n",
        "\n",
        "# array of 10 points\n",
        "points = np.random.randint(5, 20, size=(10, 2))\n",
        "print(\"array of points:\\n\", points)"
      ],
      "execution_count": null,
      "outputs": [
        {
          "output_type": "stream",
          "name": "stdout",
          "text": [
            "array of points:\n",
            " [[11 16]\n",
            " [10  9]\n",
            " [19 17]\n",
            " [ 8 15]\n",
            " [19 10]\n",
            " [ 8 11]\n",
            " [ 8 19]\n",
            " [ 7 15]\n",
            " [ 8  6]\n",
            " [ 7  7]]\n"
          ]
        }
      ]
    },
    {
      "cell_type": "code",
      "metadata": {
        "id": "n86qvsfF6PO2",
        "colab": {
          "base_uri": "https://localhost:8080/"
        },
        "outputId": "14cc633d-d3b9-4567-c291-b71bcc8c083a"
      },
      "source": [
        "# Calculate Euclidean distances between these pairs of points (total 10*10 = 100 pairs including self pairs). This should give you a 10*10 2-D array where each value corresponds to the distance between a pair\n",
        "euclidean_distances = np.zeros((10, 10))\n",
        "for i in range(10):\n",
        "  for j in range(10):\n",
        "    euclidean_distances[i, j] = euclidean_distance(points[i], points[j])\n",
        "\n",
        "print(euclidean_distances)\n",
        "\n"
      ],
      "execution_count": null,
      "outputs": [
        {
          "output_type": "stream",
          "name": "stdout",
          "text": [
            "[[ 0.          4.12310563  9.05538514 11.40175425  9.43398113 10.81665383\n",
            "  15.          2.23606798  5.65685425 11.66190379]\n",
            " [ 4.12310563  0.         10.44030651  7.28010989  5.65685425  8.60232527\n",
            "  12.80624847  6.          3.          9.21954446]\n",
            " [ 9.05538514 10.44030651  0.         15.62049935 15.65247584  8.54400375\n",
            "  11.         10.44030651 13.34166406  9.48683298]\n",
            " [11.40175425  7.28010989 15.62049935  0.          3.60555128  9.21954446\n",
            "  12.04159458 13.15294644  7.07106781  9.05538514]\n",
            " [ 9.43398113  5.65685425 15.65247584  3.60555128  0.         11.04536102\n",
            "  14.56021978 10.77032961  4.12310563 11.18033989]\n",
            " [10.81665383  8.60232527  8.54400375  9.21954446 11.04536102  0.\n",
            "   4.24264069 13.03840481 11.18033989  1.        ]\n",
            " [15.         12.80624847 11.         12.04159458 14.56021978  4.24264069\n",
            "   0.         17.20465053 15.26433752  3.60555128]\n",
            " [ 2.23606798  6.         10.44030651 13.15294644 10.77032961 13.03840481\n",
            "  17.20465053  0.          6.70820393 13.89244399]\n",
            " [ 5.65685425  3.         13.34166406  7.07106781  4.12310563 11.18033989\n",
            "  15.26433752  6.70820393  0.         11.66190379]\n",
            " [11.66190379  9.21954446  9.48683298  9.05538514 11.18033989  1.\n",
            "   3.60555128 13.89244399 11.66190379  0.        ]]\n"
          ]
        }
      ]
    },
    {
      "cell_type": "code",
      "metadata": {
        "id": "-FIU9Wp97V3P",
        "colab": {
          "base_uri": "https://localhost:8080/"
        },
        "outputId": "5ea2bb01-05f3-408c-ad85-9f34c6707167"
      },
      "source": [
        "# Calculate Manhattan distances between these pairs of points (total 10*10 = 100 pairs inlcuding self pairs).This should give you a 10*10 2-D array where each value corresponds to the distance between a pair.\n",
        "manhattan_distances = np.zeros((10, 10))\n",
        "for i in range(10):\n",
        "  for j in range(10):\n",
        "     manhattan_distances[i, j] = manhattan_distance(points[i][np.newaxis, :], points[j][np.newaxis, :])\n",
        "print(manhattan_distances)\n",
        "\n"
      ],
      "execution_count": null,
      "outputs": [
        {
          "output_type": "stream",
          "name": "stdout",
          "text": [
            "[[ 0.  5. 10. 14. 13. 15. 21.  3.  8. 16.]\n",
            " [ 5.  0. 13.  9.  8. 12. 18.  6.  3. 13.]\n",
            " [10. 13.  0. 22. 21. 11. 11. 13. 16. 12.]\n",
            " [14.  9. 22.  0.  5. 11. 13. 15.  8. 10.]\n",
            " [13.  8. 21.  5.  0. 12. 18. 14.  5. 13.]\n",
            " [15. 12. 11. 11. 12.  0.  6. 18. 15.  1.]\n",
            " [21. 18. 11. 13. 18.  6.  0. 24. 21.  5.]\n",
            " [ 3.  6. 13. 15. 14. 18. 24.  0.  9. 19.]\n",
            " [ 8.  3. 16.  8.  5. 15. 21.  9.  0. 16.]\n",
            " [16. 13. 12. 10. 13.  1.  5. 19. 16.  0.]]\n"
          ]
        }
      ]
    },
    {
      "cell_type": "markdown",
      "metadata": {
        "id": "5ZaKtQlZBLoQ"
      },
      "source": [
        "## Find the closest pairs (excluding self pairs) on the basis of both the distance measures"
      ]
    },
    {
      "cell_type": "code",
      "metadata": {
        "id": "AeKJGamV6qnu",
        "colab": {
          "base_uri": "https://localhost:8080/"
        },
        "outputId": "523ef4ac-a9cd-43d7-c054-88cd4e63c14e"
      },
      "source": [
        "# Your code here\n",
        "import numpy as np\n",
        "\n",
        "def euclidean_distance(x, y):\n",
        "  return np.sqrt(np.sum((x - y)**2))\n",
        "\n",
        "points = np.random.randint(5, 20, size=(10, 2))\n",
        "print( points)\n",
        "closest_pair = (0, 1)\n",
        "min_distance = euclidean_distance(points[0], points[1])\n",
        "\n",
        "\n",
        "    \n",
        "\n",
        "print(closest_pair)"
      ],
      "execution_count": null,
      "outputs": [
        {
          "output_type": "stream",
          "name": "stdout",
          "text": [
            "[[16 19]\n",
            " [10 18]\n",
            " [13 14]\n",
            " [17  5]\n",
            " [19  5]\n",
            " [10  6]\n",
            " [ 8 19]\n",
            " [13 15]\n",
            " [ 8  9]\n",
            " [10 16]]\n",
            "(0, 1)\n"
          ]
        }
      ]
    },
    {
      "cell_type": "markdown",
      "metadata": {
        "id": "rnEIpxdzfIhF"
      },
      "source": [
        "# <u>**Problem 3**</u>\n",
        "\n",
        "## Extract all the contiguous 3x3 blocks from a random 10x10 matrix. For example, the first matrix corresponds to [:3,:3], then the second matrix corresponds to [:3,1:4],.... Once you have covered the first three rows, then the next set of matrices would be [1:4,:3],[1:4,1:4],.... and so on and so forth. The last matrix would be [7:10,7:10]"
      ]
    },
    {
      "cell_type": "code",
      "metadata": {
        "id": "NuQh8LLBma-0",
        "colab": {
          "base_uri": "https://localhost:8080/"
        },
        "outputId": "74fc7055-ed57-4005-f7fb-923381d6848c"
      },
      "source": [
        "# Your code below ..\n",
        "import numpy as np\n",
        "rand=np.random.randint(1000,size= (10,10))\n",
        "print(rand)\n",
        "\n",
        "block=[]\n",
        "\n",
        "for i in range(rand.shape[0]-2):\n",
        "  for a in range(rand.shape[0]-2):\n",
        "    block.append(rand[i:i+3,a:a+3])\n",
        "\n",
        "print(len(block))\n",
        "print(block)\n",
        "\n"
      ],
      "execution_count": null,
      "outputs": [
        {
          "output_type": "stream",
          "name": "stdout",
          "text": [
            "[[316 729 522 806 170 483 548 157 324 922]\n",
            " [853 672 135 814 898  89 357 664 991 336]\n",
            " [755 322 524 650 126 529 172 385 122 633]\n",
            " [984 532 981 135 791 460 791 386 736 449]\n",
            " [660 551  41 235 525 991 431 275 336 601]\n",
            " [713 498 125 933 293 795  66 824 142 822]\n",
            " [913 988 988 528  35 699 228 410 469 733]\n",
            " [410 964 950 108 238 659 546 670 437 525]\n",
            " [502  41  45 187 557 436 837 755 937 247]\n",
            " [575 791 720 981 629  58 960 890  49 472]]\n",
            "64\n",
            "[array([[316, 729, 522],\n",
            "       [853, 672, 135],\n",
            "       [755, 322, 524]]), array([[729, 522, 806],\n",
            "       [672, 135, 814],\n",
            "       [322, 524, 650]]), array([[522, 806, 170],\n",
            "       [135, 814, 898],\n",
            "       [524, 650, 126]]), array([[806, 170, 483],\n",
            "       [814, 898,  89],\n",
            "       [650, 126, 529]]), array([[170, 483, 548],\n",
            "       [898,  89, 357],\n",
            "       [126, 529, 172]]), array([[483, 548, 157],\n",
            "       [ 89, 357, 664],\n",
            "       [529, 172, 385]]), array([[548, 157, 324],\n",
            "       [357, 664, 991],\n",
            "       [172, 385, 122]]), array([[157, 324, 922],\n",
            "       [664, 991, 336],\n",
            "       [385, 122, 633]]), array([[853, 672, 135],\n",
            "       [755, 322, 524],\n",
            "       [984, 532, 981]]), array([[672, 135, 814],\n",
            "       [322, 524, 650],\n",
            "       [532, 981, 135]]), array([[135, 814, 898],\n",
            "       [524, 650, 126],\n",
            "       [981, 135, 791]]), array([[814, 898,  89],\n",
            "       [650, 126, 529],\n",
            "       [135, 791, 460]]), array([[898,  89, 357],\n",
            "       [126, 529, 172],\n",
            "       [791, 460, 791]]), array([[ 89, 357, 664],\n",
            "       [529, 172, 385],\n",
            "       [460, 791, 386]]), array([[357, 664, 991],\n",
            "       [172, 385, 122],\n",
            "       [791, 386, 736]]), array([[664, 991, 336],\n",
            "       [385, 122, 633],\n",
            "       [386, 736, 449]]), array([[755, 322, 524],\n",
            "       [984, 532, 981],\n",
            "       [660, 551,  41]]), array([[322, 524, 650],\n",
            "       [532, 981, 135],\n",
            "       [551,  41, 235]]), array([[524, 650, 126],\n",
            "       [981, 135, 791],\n",
            "       [ 41, 235, 525]]), array([[650, 126, 529],\n",
            "       [135, 791, 460],\n",
            "       [235, 525, 991]]), array([[126, 529, 172],\n",
            "       [791, 460, 791],\n",
            "       [525, 991, 431]]), array([[529, 172, 385],\n",
            "       [460, 791, 386],\n",
            "       [991, 431, 275]]), array([[172, 385, 122],\n",
            "       [791, 386, 736],\n",
            "       [431, 275, 336]]), array([[385, 122, 633],\n",
            "       [386, 736, 449],\n",
            "       [275, 336, 601]]), array([[984, 532, 981],\n",
            "       [660, 551,  41],\n",
            "       [713, 498, 125]]), array([[532, 981, 135],\n",
            "       [551,  41, 235],\n",
            "       [498, 125, 933]]), array([[981, 135, 791],\n",
            "       [ 41, 235, 525],\n",
            "       [125, 933, 293]]), array([[135, 791, 460],\n",
            "       [235, 525, 991],\n",
            "       [933, 293, 795]]), array([[791, 460, 791],\n",
            "       [525, 991, 431],\n",
            "       [293, 795,  66]]), array([[460, 791, 386],\n",
            "       [991, 431, 275],\n",
            "       [795,  66, 824]]), array([[791, 386, 736],\n",
            "       [431, 275, 336],\n",
            "       [ 66, 824, 142]]), array([[386, 736, 449],\n",
            "       [275, 336, 601],\n",
            "       [824, 142, 822]]), array([[660, 551,  41],\n",
            "       [713, 498, 125],\n",
            "       [913, 988, 988]]), array([[551,  41, 235],\n",
            "       [498, 125, 933],\n",
            "       [988, 988, 528]]), array([[ 41, 235, 525],\n",
            "       [125, 933, 293],\n",
            "       [988, 528,  35]]), array([[235, 525, 991],\n",
            "       [933, 293, 795],\n",
            "       [528,  35, 699]]), array([[525, 991, 431],\n",
            "       [293, 795,  66],\n",
            "       [ 35, 699, 228]]), array([[991, 431, 275],\n",
            "       [795,  66, 824],\n",
            "       [699, 228, 410]]), array([[431, 275, 336],\n",
            "       [ 66, 824, 142],\n",
            "       [228, 410, 469]]), array([[275, 336, 601],\n",
            "       [824, 142, 822],\n",
            "       [410, 469, 733]]), array([[713, 498, 125],\n",
            "       [913, 988, 988],\n",
            "       [410, 964, 950]]), array([[498, 125, 933],\n",
            "       [988, 988, 528],\n",
            "       [964, 950, 108]]), array([[125, 933, 293],\n",
            "       [988, 528,  35],\n",
            "       [950, 108, 238]]), array([[933, 293, 795],\n",
            "       [528,  35, 699],\n",
            "       [108, 238, 659]]), array([[293, 795,  66],\n",
            "       [ 35, 699, 228],\n",
            "       [238, 659, 546]]), array([[795,  66, 824],\n",
            "       [699, 228, 410],\n",
            "       [659, 546, 670]]), array([[ 66, 824, 142],\n",
            "       [228, 410, 469],\n",
            "       [546, 670, 437]]), array([[824, 142, 822],\n",
            "       [410, 469, 733],\n",
            "       [670, 437, 525]]), array([[913, 988, 988],\n",
            "       [410, 964, 950],\n",
            "       [502,  41,  45]]), array([[988, 988, 528],\n",
            "       [964, 950, 108],\n",
            "       [ 41,  45, 187]]), array([[988, 528,  35],\n",
            "       [950, 108, 238],\n",
            "       [ 45, 187, 557]]), array([[528,  35, 699],\n",
            "       [108, 238, 659],\n",
            "       [187, 557, 436]]), array([[ 35, 699, 228],\n",
            "       [238, 659, 546],\n",
            "       [557, 436, 837]]), array([[699, 228, 410],\n",
            "       [659, 546, 670],\n",
            "       [436, 837, 755]]), array([[228, 410, 469],\n",
            "       [546, 670, 437],\n",
            "       [837, 755, 937]]), array([[410, 469, 733],\n",
            "       [670, 437, 525],\n",
            "       [755, 937, 247]]), array([[410, 964, 950],\n",
            "       [502,  41,  45],\n",
            "       [575, 791, 720]]), array([[964, 950, 108],\n",
            "       [ 41,  45, 187],\n",
            "       [791, 720, 981]]), array([[950, 108, 238],\n",
            "       [ 45, 187, 557],\n",
            "       [720, 981, 629]]), array([[108, 238, 659],\n",
            "       [187, 557, 436],\n",
            "       [981, 629,  58]]), array([[238, 659, 546],\n",
            "       [557, 436, 837],\n",
            "       [629,  58, 960]]), array([[659, 546, 670],\n",
            "       [436, 837, 755],\n",
            "       [ 58, 960, 890]]), array([[546, 670, 437],\n",
            "       [837, 755, 937],\n",
            "       [960, 890,  49]]), array([[670, 437, 525],\n",
            "       [755, 937, 247],\n",
            "       [890,  49, 472]])]\n"
          ]
        }
      ]
    },
    {
      "cell_type": "markdown",
      "metadata": {
        "id": "UtGDDH9Qq_2M"
      },
      "source": [
        "#<u>**Problem 4**</u>\n",
        "\n",
        "### Write a function which finds the nearest value from a given value in an array of random N elements. Suppose you created an 1-D array with 15 elements taking values between 10 and 500. Your function would take any input from these values and return the nearest value. (You can use np.abs() function)"
      ]
    },
    {
      "cell_type": "code",
      "metadata": {
        "id": "oknMAmKWFNSX",
        "colab": {
          "base_uri": "https://localhost:8080/"
        },
        "outputId": "caeef3a7-18c4-4777-bbec-517950d20130"
      },
      "source": [
        "# Your function below\n",
        "\n",
        "import numpy as np\n",
        "\n",
        "def nearest_value(arr, value):\n",
        "    idx = (np.abs(arr - value)).argmin()\n",
        "    return arr[idx]\n",
        "\n",
        "import numpy as np\n",
        "\n",
        "arr = np.random.randint(10, 500, 15)\n",
        "value = np.random.randint(10, 500)\n",
        "nearest = nearest_value(arr, value)\n",
        "\n",
        "print(\"Array:\", arr)\n",
        "print(\"Value:\", value)\n",
        "print(\"Nearest value:\", nearest)"
      ],
      "execution_count": null,
      "outputs": [
        {
          "output_type": "stream",
          "name": "stdout",
          "text": [
            "Array: [212 482 210 320 379 456  42 446  63  78 228 373 405 483 352]\n",
            "Value: 55\n",
            "Nearest value: 63\n"
          ]
        }
      ]
    }
  ]
}